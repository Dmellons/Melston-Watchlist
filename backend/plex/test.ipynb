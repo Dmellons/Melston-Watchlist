{
 "cells": [
  {
   "cell_type": "code",
   "execution_count": null,
   "metadata": {},
   "outputs": [],
   "source": [
    "from plexapi.server import PlexServer\n",
    "from decouple import config\n",
    "from icecream import ic\n",
    "\n",
    "PLEX_TOKEN = config('PLEX_TOKEN')\n",
    "PLEX_SERVER = config('PLEX_SERVER_BASE_URL')\n",
    "\n",
    "plex = PlexServer(PLEX_SERVER, PLEX_TOKEN)"
   ]
  },
  {
   "cell_type": "code",
   "execution_count": null,
   "metadata": {},
   "outputs": [],
   "source": [
    "print(plex.library.getGuid())"
   ]
  }
 ],
 "metadata": {
  "kernelspec": {
   "display_name": "venv",
   "language": "python",
   "name": "python3"
  },
  "language_info": {
   "name": "python",
   "version": "3.12.3"
  }
 },
 "nbformat": 4,
 "nbformat_minor": 2
}
